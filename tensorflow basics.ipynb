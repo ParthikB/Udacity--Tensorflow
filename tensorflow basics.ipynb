{
  "nbformat": 4,
  "nbformat_minor": 0,
  "metadata": {
    "colab": {
      "name": "tensorflow basics",
      "provenance": [],
      "include_colab_link": true
    },
    "kernelspec": {
      "name": "python3",
      "display_name": "Python 3"
    }
  },
  "cells": [
    {
      "cell_type": "markdown",
      "metadata": {
        "id": "view-in-github",
        "colab_type": "text"
      },
      "source": [
        "<a href=\"https://colab.research.google.com/github/ParthikB/Vohoo-Tensorflow/blob/master/tensorflow%20basics.ipynb\" target=\"_parent\"><img src=\"https://colab.research.google.com/assets/colab-badge.svg\" alt=\"Open In Colab\"/></a>"
      ]
    },
    {
      "cell_type": "code",
      "metadata": {
        "id": "P5-CXfyd4jJO",
        "colab_type": "code",
        "colab": {}
      },
      "source": [
        "import tensorflow as tf"
      ],
      "execution_count": 0,
      "outputs": []
    },
    {
      "cell_type": "markdown",
      "metadata": {
        "id": "Gh03823G5GIC",
        "colab_type": "text"
      },
      "source": [
        "### Basic Computation Graph"
      ]
    },
    {
      "cell_type": "code",
      "metadata": {
        "id": "37ZC8uOa4sK1",
        "colab_type": "code",
        "colab": {}
      },
      "source": [
        "x = tf.constant(10)\n",
        "\n",
        "y = tf.multiply(x, x)\n",
        "\n",
        "z = tf.add(y, y)"
      ],
      "execution_count": 0,
      "outputs": []
    },
    {
      "cell_type": "code",
      "metadata": {
        "id": "Y-nVInx3431a",
        "colab_type": "code",
        "colab": {
          "base_uri": "https://localhost:8080/",
          "height": 50
        },
        "outputId": "f9d363fb-6fde-47db-8ea6-1fc428918d51"
      },
      "source": [
        "# Way 1\n",
        "with tf.Session() as sess:\n",
        "  result = z.eval()\n",
        "  print('Way 1:', result)\n",
        "  \n",
        "# Way 2\n",
        "sess = tf.Session()\n",
        "print('Way 2:', sess.run(z))"
      ],
      "execution_count": 40,
      "outputs": [
        {
          "output_type": "stream",
          "text": [
            "Way 1: 200\n",
            "Way 2: 200\n"
          ],
          "name": "stdout"
        }
      ]
    },
    {
      "cell_type": "code",
      "metadata": {
        "id": "ph5QLOKxABpK",
        "colab_type": "code",
        "colab": {
          "base_uri": "https://localhost:8080/",
          "height": 34
        },
        "outputId": "a1e010f0-b13b-440c-ec2c-455e355a3fd8"
      },
      "source": [
        "test = tf.constant([1, 2])\n",
        "test2 = tf.constant([1, 2])\n",
        "\n",
        "tf.rank(test) > tf.rank(test2) "
      ],
      "execution_count": 52,
      "outputs": [
        {
          "output_type": "execute_result",
          "data": {
            "text/plain": [
              "<tf.Tensor 'Greater_2:0' shape=() dtype=bool>"
            ]
          },
          "metadata": {
            "tags": []
          },
          "execution_count": 52
        }
      ]
    }
  ]
}