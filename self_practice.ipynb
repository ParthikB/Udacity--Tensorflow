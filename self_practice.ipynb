{
  "nbformat": 4,
  "nbformat_minor": 0,
  "metadata": {
    "colab": {
      "name": "self-practice",
      "version": "0.3.2",
      "provenance": [],
      "include_colab_link": true
    },
    "kernelspec": {
      "name": "python3",
      "display_name": "Python 3"
    },
    "accelerator": "GPU"
  },
  "cells": [
    {
      "cell_type": "markdown",
      "metadata": {
        "id": "view-in-github",
        "colab_type": "text"
      },
      "source": [
        "<a href=\"https://colab.research.google.com/github/ParthikB/Vohoo-Tensorflow/blob/master/self_practice.ipynb\" target=\"_parent\"><img src=\"https://colab.research.google.com/assets/colab-badge.svg\" alt=\"Open In Colab\"/></a>"
      ]
    },
    {
      "cell_type": "code",
      "metadata": {
        "id": "_-dtV3QA6F5Q",
        "colab_type": "code",
        "colab": {}
      },
      "source": [
        "def create_data(total_samples, range_of_data):\n",
        "    X1, X2, Y = [], [], []\n",
        "\n",
        "    for datapoints in range(total_samples):\n",
        "        x2 = np.random.randint(1, range_of_data + 1)\n",
        "        x1 = np.random.randint(1, range_of_data + 1)\n",
        "\n",
        "        if x1 < range_of_data / 2:\n",
        "            label = 0\n",
        "        else:\n",
        "            label = 1\n",
        "        X1.append(x1)\n",
        "        X2.append(x2)\n",
        "        X = np.array([X1, X2])\n",
        "        Y.append(label)\n",
        "\n",
        "    return np.array(X).reshape(2, -1), np.array(Y).reshape(1, -1)"
      ],
      "execution_count": 0,
      "outputs": []
    },
    {
      "cell_type": "code",
      "metadata": {
        "id": "K1vilOws6NN4",
        "colab_type": "code",
        "colab": {}
      },
      "source": [
        ""
      ],
      "execution_count": 0,
      "outputs": []
    }
  ]
}