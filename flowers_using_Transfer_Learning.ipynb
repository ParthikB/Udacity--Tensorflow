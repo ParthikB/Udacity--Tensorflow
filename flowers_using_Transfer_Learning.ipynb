{
  "nbformat": 4,
  "nbformat_minor": 0,
  "metadata": {
    "colab": {
      "name": "flowers - using Transfer Learning",
      "version": "0.3.2",
      "provenance": [],
      "collapsed_sections": [],
      "include_colab_link": true
    },
    "kernelspec": {
      "name": "python3",
      "display_name": "Python 3"
    },
    "accelerator": "GPU"
  },
  "cells": [
    {
      "cell_type": "markdown",
      "metadata": {
        "id": "view-in-github",
        "colab_type": "text"
      },
      "source": [
        "<a href=\"https://colab.research.google.com/github/ParthikB/Vohoo-Tensorflow/blob/master/flowers_using_Transfer_Learning.ipynb\" target=\"_parent\"><img src=\"https://colab.research.google.com/assets/colab-badge.svg\" alt=\"Open In Colab\"/></a>"
      ]
    },
    {
      "cell_type": "code",
      "metadata": {
        "id": "cnUpstJbA7De",
        "colab_type": "code",
        "colab": {}
      },
      "source": [
        "import tensorflow as tf\n",
        "from tensorflow.keras.preprocessing.image import ImageDataGenerator\n",
        "import tensorflow_datasets as tfds\n",
        "import tensorflow_hub as hub\n",
        "tf.enable_eager_execution()\n",
        "\n",
        "import numpy as np\n",
        "import os\n",
        "import matplotlib.pyplot as plt\n",
        "import glob\n",
        "import shutil"
      ],
      "execution_count": 0,
      "outputs": []
    },
    {
      "cell_type": "markdown",
      "metadata": {
        "id": "p5Z3bHRyICmq",
        "colab_type": "text"
      },
      "source": [
        "## Importing Data"
      ]
    },
    {
      "cell_type": "code",
      "metadata": {
        "id": "blqYIw6NBUU_",
        "colab_type": "code",
        "colab": {}
      },
      "source": [
        "_URL = \"https://storage.googleapis.com/download.tensorflow.org/example_images/flower_photos.tgz\"\n",
        "\n",
        "zip_file = tf.keras.utils.get_file(origin=_URL, extract=True, fname='flower_photos.tgz')\n",
        "\n",
        "base_dir = os.path.join(os.path.dirname(zip_file), 'flower_photos')"
      ],
      "execution_count": 0,
      "outputs": []
    },
    {
      "cell_type": "code",
      "metadata": {
        "id": "sqCco7NCDXAD",
        "colab_type": "code",
        "colab": {}
      },
      "source": [
        "classes = ['roses', 'daisy', 'dandelion', 'sunflowers', 'tulips']"
      ],
      "execution_count": 0,
      "outputs": []
    },
    {
      "cell_type": "code",
      "metadata": {
        "id": "q6mJq6vPCdUx",
        "colab_type": "code",
        "colab": {
          "base_uri": "https://localhost:8080/",
          "height": 101
        },
        "outputId": "98a082fe-8f35-4af8-ef39-66840b0e6f9c"
      },
      "source": [
        "for cl in classes:\n",
        "  img_path = os.path.join(base_dir, cl)\n",
        "  images = glob.glob(img_path + '/*.jpg')\n",
        "  print(\"{}: {} Images\".format(cl, len(images)))\n",
        "  train, val = images[:round(len(images)*0.8)], images[round(len(images)*0.8):]\n",
        "\n",
        "  for t in train:\n",
        "    if not os.path.exists(os.path.join(base_dir, 'train', cl)):\n",
        "      os.makedirs(os.path.join(base_dir, 'train', cl))\n",
        "    shutil.move(t, os.path.join(base_dir, 'train', cl))\n",
        "\n",
        "  for v in val:\n",
        "    if not os.path.exists(os.path.join(base_dir, 'val', cl)):\n",
        "      os.makedirs(os.path.join(base_dir, 'val', cl))\n",
        "    shutil.move(v, os.path.join(base_dir, 'val', cl))"
      ],
      "execution_count": 65,
      "outputs": [
        {
          "output_type": "stream",
          "text": [
            "roses: 641 Images\n",
            "daisy: 633 Images\n",
            "dandelion: 898 Images\n",
            "sunflowers: 699 Images\n",
            "tulips: 799 Images\n"
          ],
          "name": "stdout"
        }
      ]
    },
    {
      "cell_type": "code",
      "metadata": {
        "id": "BWNA4o9oMSaU",
        "colab_type": "code",
        "colab": {
          "base_uri": "https://localhost:8080/",
          "height": 50
        },
        "outputId": "d883bb07-aac0-4dba-d03c-b1e6a99ae5e5"
      },
      "source": [
        "train_dir = os.path.join(base_dir, 'train')\n",
        "val_dir = os.path.join(base_dir, 'val')\n",
        "\n",
        "total_train = 0\n",
        "total_val   = 0\n",
        "\n",
        "for class_ in classes:\n",
        "  total_train += len(os.listdir(os.path.join(train_dir, class_)))\n",
        "  total_val   += len(os.listdir(os.path.join(val_dir, class_)))\n",
        "  \n",
        "print(\"Total Training samples   :\", total_train)\n",
        "print(\"Total Validation samples :\", total_val)"
      ],
      "execution_count": 66,
      "outputs": [
        {
          "output_type": "stream",
          "text": [
            "Total Training samples   : 2935\n",
            "Total Validation samples : 735\n"
          ],
          "name": "stdout"
        }
      ]
    },
    {
      "cell_type": "markdown",
      "metadata": {
        "id": "yCFo-zxmF2zf",
        "colab_type": "text"
      },
      "source": [
        "## Data preprocessing"
      ]
    },
    {
      "cell_type": "code",
      "metadata": {
        "id": "OgVAzNr9ILRW",
        "colab_type": "code",
        "colab": {
          "base_uri": "https://localhost:8080/",
          "height": 50
        },
        "outputId": "b6273236-218a-4052-e12d-8768f9dc54ee"
      },
      "source": [
        "IMG_SHAPE = 224\n",
        "BATCH_SIZE = 32\n",
        "\n",
        "image_gen  = ImageDataGenerator(rescale=1./255,\n",
        "                                height_shift_range=0.2,\n",
        "                                width_shift_range=0.2,\n",
        "                                zoom_range=0.2,\n",
        "                                shear_range=0.2,\n",
        "                                horizontal_flip=True,\n",
        "                                rotation_range=40,\n",
        "                                fill_mode='nearest')\n",
        "\n",
        "train_data = image_gen.flow_from_directory(directory=train_dir,\n",
        "                                           shuffle=True,\n",
        "                                           batch_size=BATCH_SIZE,\n",
        "                                           target_size=(IMG_SHAPE, IMG_SHAPE),\n",
        "                                           class_mode='binary')\n",
        "\n",
        "image_gen  = ImageDataGenerator(rescale=1./255)\n",
        "\n",
        "val_data   = image_gen.flow_from_directory(directory=val_dir,\n",
        "                                           batch_size=BATCH_SIZE,\n",
        "                                           target_size=(IMG_SHAPE, IMG_SHAPE),\n",
        "                                           class_mode='binary')"
      ],
      "execution_count": 84,
      "outputs": [
        {
          "output_type": "stream",
          "text": [
            "Found 2935 images belonging to 5 classes.\n",
            "Found 735 images belonging to 5 classes.\n"
          ],
          "name": "stdout"
        }
      ]
    },
    {
      "cell_type": "markdown",
      "metadata": {
        "id": "P3Aogf1FIp2x",
        "colab_type": "text"
      },
      "source": [
        "## Model Importing\n",
        "------- MobileNet -------"
      ]
    },
    {
      "cell_type": "code",
      "metadata": {
        "id": "8_PlHZZyJfdb",
        "colab_type": "code",
        "colab": {}
      },
      "source": [
        "mobile_net_layer = hub.KerasLayer(\"https://tfhub.dev/google/tf2-preview/mobilenet_v2/feature_vector/2\",\n",
        "                                  input_shape=(IMG_SHAPE, IMG_SHAPE, 3))\n",
        "\n",
        "mobile_net_layer.trainable = False"
      ],
      "execution_count": 0,
      "outputs": []
    },
    {
      "cell_type": "markdown",
      "metadata": {
        "id": "mTZytcdQP3uI",
        "colab_type": "text"
      },
      "source": [
        "## Model Structure"
      ]
    },
    {
      "cell_type": "code",
      "metadata": {
        "id": "3E1m7t0YJHht",
        "colab_type": "code",
        "colab": {
          "base_uri": "https://localhost:8080/",
          "height": 218
        },
        "outputId": "600bbef2-8da1-40d8-e7e3-e391b449af27"
      },
      "source": [
        "model = tf.keras.Sequential([\n",
        "    mobile_net_layer,\n",
        "    tf.keras.layers.Dense(5, activation='softmax')\n",
        "])\n",
        "\n",
        "model.summary()"
      ],
      "execution_count": 86,
      "outputs": [
        {
          "output_type": "stream",
          "text": [
            "Model: \"sequential_3\"\n",
            "_________________________________________________________________\n",
            "Layer (type)                 Output Shape              Param #   \n",
            "=================================================================\n",
            "keras_layer_3 (KerasLayer)   (None, 1280)              2257984   \n",
            "_________________________________________________________________\n",
            "dense_3 (Dense)              (None, 5)                 6405      \n",
            "=================================================================\n",
            "Total params: 2,264,389\n",
            "Trainable params: 6,405\n",
            "Non-trainable params: 2,257,984\n",
            "_________________________________________________________________\n"
          ],
          "name": "stdout"
        }
      ]
    },
    {
      "cell_type": "code",
      "metadata": {
        "id": "tsgDO5_XKL6r",
        "colab_type": "code",
        "colab": {}
      },
      "source": [
        "model.compile(loss='sparse_categorical_crossentropy',\n",
        "              optimizer='adam', metrics=['accuracy'])"
      ],
      "execution_count": 0,
      "outputs": []
    },
    {
      "cell_type": "markdown",
      "metadata": {
        "id": "uU-8lGBAP7Bs",
        "colab_type": "text"
      },
      "source": [
        "## Model Training"
      ]
    },
    {
      "cell_type": "code",
      "metadata": {
        "id": "Pu-1vT-6KXuB",
        "colab_type": "code",
        "colab": {
          "base_uri": "https://localhost:8080/",
          "height": 353
        },
        "outputId": "c48dcdd2-a110-4b09-b64c-9d60b382b27f"
      },
      "source": [
        "EPOCHS = 10\n",
        "\n",
        "history = model.fit(train_data,\n",
        "                    epochs=EPOCHS,\n",
        "                    validation_data = val_data)"
      ],
      "execution_count": 88,
      "outputs": [
        {
          "output_type": "stream",
          "text": [
            "Epoch 1/10\n",
            "92/92 [==============================] - 54s 590ms/step - loss: 0.8150 - acc: 0.6954 - val_loss: 0.4676 - val_acc: 0.8490\n",
            "Epoch 2/10\n",
            "92/92 [==============================] - 49s 529ms/step - loss: 0.4553 - acc: 0.8429 - val_loss: 0.3553 - val_acc: 0.8925\n",
            "Epoch 3/10\n",
            "92/92 [==============================] - 49s 528ms/step - loss: 0.4032 - acc: 0.8583 - val_loss: 0.3255 - val_acc: 0.8966\n",
            "Epoch 4/10\n",
            "92/92 [==============================] - 49s 530ms/step - loss: 0.3400 - acc: 0.8739 - val_loss: 0.3165 - val_acc: 0.9020\n",
            "Epoch 5/10\n",
            "92/92 [==============================] - 49s 533ms/step - loss: 0.3289 - acc: 0.8811 - val_loss: 0.3221 - val_acc: 0.8857\n",
            "Epoch 6/10\n",
            "92/92 [==============================] - 49s 529ms/step - loss: 0.3066 - acc: 0.8930 - val_loss: 0.2932 - val_acc: 0.9020\n",
            "Epoch 7/10\n",
            "92/92 [==============================] - 49s 528ms/step - loss: 0.2964 - acc: 0.8903 - val_loss: 0.3017 - val_acc: 0.8993\n",
            "Epoch 8/10\n",
            "92/92 [==============================] - 49s 533ms/step - loss: 0.2771 - acc: 0.9032 - val_loss: 0.3281 - val_acc: 0.8816\n",
            "Epoch 9/10\n",
            "92/92 [==============================] - 50s 540ms/step - loss: 0.2653 - acc: 0.9097 - val_loss: 0.2895 - val_acc: 0.9048\n",
            "Epoch 10/10\n",
            "92/92 [==============================] - 49s 537ms/step - loss: 0.2560 - acc: 0.9141 - val_loss: 0.2869 - val_acc: 0.8980\n"
          ],
          "name": "stdout"
        }
      ]
    },
    {
      "cell_type": "markdown",
      "metadata": {
        "id": "40QJw-yXP9hs",
        "colab_type": "text"
      },
      "source": [
        "## Results Visualization"
      ]
    },
    {
      "cell_type": "code",
      "metadata": {
        "id": "ZbCBQR0zNdrI",
        "colab_type": "code",
        "colab": {
          "base_uri": "https://localhost:8080/",
          "height": 367
        },
        "outputId": "9d1cdb9e-cbc2-463a-917a-c620ba94e517"
      },
      "source": [
        "train_acc  = history.history['acc']\n",
        "train_loss = history.history['loss']\n",
        "\n",
        "val_acc    = history.history['val_acc']\n",
        "val_loss   = history.history['val_loss']\n",
        "\n",
        "epochs     = list(range(10))\n",
        "\n",
        "plt.figure(figsize=(16, 5))\n",
        "\n",
        "plt.subplot(1, 2, 1)\n",
        "plt.plot(epochs, train_acc, label='Train')\n",
        "plt.plot(epochs, val_acc, label='Val')\n",
        "plt.legend()\n",
        "plt.grid(1)\n",
        "plt.title(\"Accuracy v/s Epochs\")\n",
        "plt.xlabel('Epochs')\n",
        "plt.ylabel('Accuracy')\n",
        "\n",
        "\n",
        "plt.subplot(1, 2, 2)\n",
        "plt.plot(epochs, train_loss, label='Train')\n",
        "plt.plot(epochs, val_loss, label='Val')\n",
        "plt.legend()\n",
        "plt.grid(1)\n",
        "plt.title(\"Loss v/s Epochs\")\n",
        "plt.xlabel('Epochs')\n",
        "plt.ylabel('Loss')"
      ],
      "execution_count": 94,
      "outputs": [
        {
          "output_type": "execute_result",
          "data": {
            "text/plain": [
              "Text(0, 0.5, 'Loss')"
            ]
          },
          "metadata": {
            "tags": []
          },
          "execution_count": 94
        },
        {
          "output_type": "display_data",
          "data": {
            "image/png": "[encoded data removed]",
            "text/plain": [
              "<Figure size 1152x360 with 2 Axes>"
            ]
          },
          "metadata": {
            "tags": []
          }
        }
      ]
    },
    {
      "cell_type": "code",
      "metadata": {
        "id": "stxze6IaOesH",
        "colab_type": "code",
        "colab": {}
      },
      "source": [
        ""
      ],
      "execution_count": 0,
      "outputs": []
    }
  ]
}